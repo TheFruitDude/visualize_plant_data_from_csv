{
 "cells": [
  {
   "cell_type": "markdown",
   "metadata": {},
   "source": [
    "Test"
   ]
  },
  {
   "cell_type": "code",
   "execution_count": 1,
   "metadata": {},
   "outputs": [
    {
     "name": "stdout",
     "output_type": "stream",
     "text": [
      "(8.730499333333333, 46.04412677777778)\n"
     ]
    },
    {
     "data": {
      "image/png": "[encoded data removed]",
      "text/plain": [
       "<Figure size 432x288 with 1 Axes>"
      ]
     },
     "metadata": {},
     "output_type": "display_data"
    }
   ],
   "source": [
    "#!/usr/bin/python3\n",
    "# coding=utf-8\n",
    "\n",
    "#api3.geo.admin.ch\n",
    "\n",
    "# Schweizer Koordinaten Bezugsystem = (LV95 CH1903+ / LV95 EPSG 2056)\n",
    "\n",
    "import numpy as np\n",
    "import pandas as pd\n",
    "import matplotlib.pyplot as plt\n",
    "from mpl_toolkits.basemap import Basemap\n",
    "\n",
    "\n",
    "# Ganz wichtig, sonst wird der Plot nicht agezeigt\n",
    "%matplotlib inline\n",
    "\n",
    "\n",
    "\"\"\"\n",
    "\n",
    "large = 22; med = 16; small = 12\n",
    "\n",
    "params = {'axes.titlesize': large,\n",
    "          'legend.fontsize': med,\n",
    "          'figure.figsize': (16, 10),\n",
    "          'axes.labelsize': med,\n",
    "          'axes.titlesize': med,\n",
    "          'xtick.labelsize': med,\n",
    "          'ytick.labelsize': med,\n",
    "          'figure.titlesize': large}\n",
    "plt.rcParams.update(params)\n",
    "\n",
    "\"\"\"\n",
    "\n",
    "\n",
    "\n",
    "plant_data = pd.read_csv(\"MAR infoflora_200274_Pilatus.csv\",sep=\";\", encoding=\"iso-8859-1\", usecols=['Koordx', 'Koordy', 'Trivialname', 'Jahr'])\n",
    "df = pd.DataFrame(plant_data)\n",
    "#print((df[df['Trivialname'] == 'Felsenmispel']))\n",
    "\n",
    "\n",
    "x1 = []\n",
    "y1 = []\n",
    "x1 = df['Koordx'].to_list()\n",
    "y1 = df['Koordy'].to_list()\n",
    "name = df['Trivialname'].to_list()\n",
    "\n",
    "plt.style.use('seaborn-whitegrid')\n",
    "plt.xlabel('Koordx')\n",
    "plt.ylabel('Koordy')\n",
    "plt.title('Scatter')\n",
    "\n",
    "\n",
    "\n",
    "#Write a function which gets all plants where name = \n",
    "\n",
    "#plt.show()\n",
    "\n",
    "def convert_to_WGS84(E, N):\n",
    "\t#  Nährungsformel für die Umrechnung von Schweizer Projektionskoordinaten in ellipsoidische WGS84 Koordinaten\n",
    "\t#  online converter admin.ch: https://www.swisstopo.admin.ch/en/maps-data-online/calculation-services/navref.html\n",
    "\t#  formula from https://www.google.ch/url?sa=t&rct=j&q=&esrc=s&source=web&cd=&cad=rja&uact=8&ved=2ahUKEwjI44q72J_qAhVKxYUKHR8CAYYQFjAAegQIBhAB&url=https%3A%2F%2Fwww.swisstopo.admin.ch%2Fcontent%2Fswisstopo-internet%2Fde%2Fonline%2Fcalculation-services%2F_jcr_content%2FcontentPar%2Ftabs%2Fitems%2Fdokumente_und_publik%2FtabPar%2Fdownloadlist%2FdownloadItems%2F8_1467103085694.download%2Frefsys_d.pdf&usg=AOvVaw0JImHVi39dw5-Rs5KuN-KM\n",
    "\t\n",
    "\n",
    "\ty_strich = (E - 2600000)/1000000\n",
    "\tx_strich = (N - 1200000)/1000000\n",
    "\t\n",
    "\n",
    "\tlambda_strich = 2.6779094 + 4.728982 * y_strich + 0.791484 * y_strich *x_strich + 0.1306 * y_strich * x_strich**2 - 0.0436 * y_strich**3\n",
    "\tphi_strich = 16.9023892 + 3.238272 * x_strich -0.270978 * y_strich**2 - 0.002528 * x_strich**2 - 0.0447 * y_strich**2 * x_strich - 0.0140 * x_strich**3\n",
    "\n",
    "\t#Umrechnung der Länge und Breite in Einheit [°]\n",
    "\n",
    "\tlambda_neu = lambda_strich * 100 / 36 \n",
    "\tphi_neu = phi_strich * 100 / 36\n",
    "\n",
    "\treturn (lambda_neu, phi_neu)\n",
    "\n",
    "print(convert_to_WGS84(2700000,1100000))"
   ]
  },
  {
   "cell_type": "code",
   "execution_count": null,
   "metadata": {},
   "outputs": [],
   "source": []
  }
 ],
 "metadata": {
  "kernelspec": {
   "display_name": "Python 3",
   "language": "python",
   "name": "python3"
  },
  "language_info": {
   "codemirror_mode": {
    "name": "ipython",
    "version": 3
   },
   "file_extension": ".py",
   "mimetype": "text/x-python",
   "name": "python",
   "nbconvert_exporter": "python",
   "pygments_lexer": "ipython3",
   "version": "3.7.6"
  }
 },
 "nbformat": 4,
 "nbformat_minor": 4
}
